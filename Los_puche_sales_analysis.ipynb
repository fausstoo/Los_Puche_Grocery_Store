{
 "cells": [
  {
   "cell_type": "markdown",
   "id": "c319e3f2",
   "metadata": {},
   "source": [
    "### Tasks\n",
    "#### 1) Retrieve and Compile data from MySQL \n",
    "#### 2) EDA\n",
    "#### 3) Data Pre-processing\n",
    "#### 4) Graphs & Visualizations with Seaborn"
   ]
  },
  {
   "cell_type": "code",
   "execution_count": 240,
   "id": "c602c84c",
   "metadata": {},
   "outputs": [],
   "source": [
    "from sqlalchemy import create_engine\n",
    "import mysql.connector as mysql\n",
    "import seaborn as sns\n",
    "import pymysql\n",
    "import csv\n",
    "import pandas as pd\n",
    "import matplotlib\n",
    "import matplotlib.pyplot as plt\n",
    "import squarify\n",
    "plt.rcParams.update({'font.size': 18})"
   ]
  },
  {
   "cell_type": "markdown",
   "id": "1c2810a3",
   "metadata": {},
   "source": [
    "### 1 - Retrieve and Compile data from MySQL"
   ]
  },
  {
   "cell_type": "code",
   "execution_count": 241,
   "id": "51ef4b23",
   "metadata": {},
   "outputs": [],
   "source": [
    "password = '40179589Fa$$'\n",
    "connection = 'mysql+pymysql://root:' + password + '@localhost:3306/los_puche'\n",
    "db_connection = create_engine(connection)"
   ]
  },
  {
   "cell_type": "code",
   "execution_count": 242,
   "id": "de4ed9cf",
   "metadata": {},
   "outputs": [],
   "source": [
    "sales_table_query = '''\n",
    "                SELECT v.dt, p.product, p.category, v.qty, (p.unit_cost * v.qty) AS cogs,\n",
    "                v.total, (total - (p.unit_cost * v.qty)) as profit\n",
    "                FROM ventas v\n",
    "                JOIN productos p\n",
    "                ON v.product_id = p.product_id;\n",
    "                    '''\n",
    "\n",
    "to_filter = ''' \n",
    "SELECT v.dt, p.product, p.category, v.qty, (p.unit_cost * v.qty) AS cogs, v.total, (total - (p.unit_cost * v.qty)) as profit\n",
    "                FROM ventas v\n",
    "                JOIN productos p\n",
    "                ON v.product_id = p.product_id\n",
    "where (total - (p.unit_cost * v.qty)) < 0\n",
    "and total != 0;\n",
    "         '''"
   ]
  },
  {
   "cell_type": "code",
   "execution_count": 243,
   "id": "74a67457",
   "metadata": {},
   "outputs": [
    {
     "data": {
      "text/plain": [
       "(11014, 7)"
      ]
     },
     "execution_count": 243,
     "metadata": {},
     "output_type": "execute_result"
    }
   ],
   "source": [
    "pre_df = pd.read_sql_query(sales_table_query, con=db_connection)\n",
    "pre_df.shape"
   ]
  },
  {
   "cell_type": "code",
   "execution_count": 244,
   "id": "c78c603e",
   "metadata": {},
   "outputs": [
    {
     "data": {
      "text/plain": [
       "(29, 7)"
      ]
     },
     "execution_count": 244,
     "metadata": {},
     "output_type": "execute_result"
    }
   ],
   "source": [
    "df_to_filter = pd.read_sql_query(to_filter, con=db_connection)\n",
    "df_to_filter.shape"
   ]
  },
  {
   "cell_type": "code",
   "execution_count": 245,
   "id": "23315671",
   "metadata": {},
   "outputs": [
    {
     "data": {
      "text/html": [
       "<div>\n",
       "<style scoped>\n",
       "    .dataframe tbody tr th:only-of-type {\n",
       "        vertical-align: middle;\n",
       "    }\n",
       "\n",
       "    .dataframe tbody tr th {\n",
       "        vertical-align: top;\n",
       "    }\n",
       "\n",
       "    .dataframe thead th {\n",
       "        text-align: right;\n",
       "    }\n",
       "</style>\n",
       "<table border=\"1\" class=\"dataframe\">\n",
       "  <thead>\n",
       "    <tr style=\"text-align: right;\">\n",
       "      <th></th>\n",
       "      <th>dt</th>\n",
       "      <th>product</th>\n",
       "      <th>category</th>\n",
       "      <th>qty</th>\n",
       "      <th>cogs</th>\n",
       "      <th>total</th>\n",
       "      <th>profit</th>\n",
       "    </tr>\n",
       "  </thead>\n",
       "  <tbody>\n",
       "    <tr>\n",
       "      <th>29</th>\n",
       "      <td>2022-06-26</td>\n",
       "      <td>SIMPLE FAZ A4 1</td>\n",
       "      <td>Fotocopia</td>\n",
       "      <td>14.0</td>\n",
       "      <td>0.000</td>\n",
       "      <td>140.0</td>\n",
       "      <td>140.000</td>\n",
       "    </tr>\n",
       "    <tr>\n",
       "      <th>30</th>\n",
       "      <td>2022-06-26</td>\n",
       "      <td>Baggio Fresh Manzana Liviano 200ml</td>\n",
       "      <td>Agua Saborizada</td>\n",
       "      <td>1.0</td>\n",
       "      <td>49.000</td>\n",
       "      <td>70.0</td>\n",
       "      <td>21.000</td>\n",
       "    </tr>\n",
       "    <tr>\n",
       "      <th>31</th>\n",
       "      <td>2022-06-26</td>\n",
       "      <td>Tostex Barbacoa 125g</td>\n",
       "      <td>Snack</td>\n",
       "      <td>1.0</td>\n",
       "      <td>113.000</td>\n",
       "      <td>150.0</td>\n",
       "      <td>37.000</td>\n",
       "    </tr>\n",
       "    <tr>\n",
       "      <th>32</th>\n",
       "      <td>2022-06-26</td>\n",
       "      <td>Marlboro  Común 12</td>\n",
       "      <td>Cigarrillo</td>\n",
       "      <td>1.0</td>\n",
       "      <td>240.000</td>\n",
       "      <td>330.0</td>\n",
       "      <td>90.000</td>\n",
       "    </tr>\n",
       "    <tr>\n",
       "      <th>33</th>\n",
       "      <td>2022-06-26</td>\n",
       "      <td>Cabalgata Guaraná 3000ml</td>\n",
       "      <td>Gaseosa</td>\n",
       "      <td>1.0</td>\n",
       "      <td>192.000</td>\n",
       "      <td>300.0</td>\n",
       "      <td>108.000</td>\n",
       "    </tr>\n",
       "    <tr>\n",
       "      <th>...</th>\n",
       "      <td>...</td>\n",
       "      <td>...</td>\n",
       "      <td>...</td>\n",
       "      <td>...</td>\n",
       "      <td>...</td>\n",
       "      <td>...</td>\n",
       "      <td>...</td>\n",
       "    </tr>\n",
       "    <tr>\n",
       "      <th>11009</th>\n",
       "      <td>2022-12-03</td>\n",
       "      <td>Brahma  473ml</td>\n",
       "      <td>Cerveza</td>\n",
       "      <td>3.0</td>\n",
       "      <td>450.000</td>\n",
       "      <td>690.0</td>\n",
       "      <td>240.000</td>\n",
       "    </tr>\n",
       "    <tr>\n",
       "      <th>11010</th>\n",
       "      <td>2022-12-03</td>\n",
       "      <td>Coca Cola Retornable 1500ml</td>\n",
       "      <td>Gaseosa</td>\n",
       "      <td>1.0</td>\n",
       "      <td>250.000</td>\n",
       "      <td>320.0</td>\n",
       "      <td>70.000</td>\n",
       "    </tr>\n",
       "    <tr>\n",
       "      <th>11011</th>\n",
       "      <td>2022-12-03</td>\n",
       "      <td>Miller  473ml</td>\n",
       "      <td>Cerveza</td>\n",
       "      <td>1.0</td>\n",
       "      <td>165.000</td>\n",
       "      <td>240.0</td>\n",
       "      <td>75.000</td>\n",
       "    </tr>\n",
       "    <tr>\n",
       "      <th>11012</th>\n",
       "      <td>2022-12-03</td>\n",
       "      <td>Encendedor Candela 1</td>\n",
       "      <td>Varios</td>\n",
       "      <td>1.0</td>\n",
       "      <td>62.000</td>\n",
       "      <td>100.0</td>\n",
       "      <td>38.000</td>\n",
       "    </tr>\n",
       "    <tr>\n",
       "      <th>11013</th>\n",
       "      <td>2022-12-03</td>\n",
       "      <td>Fanta Naranja 500 ml</td>\n",
       "      <td>Gaseosa</td>\n",
       "      <td>1.0</td>\n",
       "      <td>166.666</td>\n",
       "      <td>220.0</td>\n",
       "      <td>53.334</td>\n",
       "    </tr>\n",
       "  </tbody>\n",
       "</table>\n",
       "<p>10985 rows × 7 columns</p>\n",
       "</div>"
      ],
      "text/plain": [
       "               dt                             product         category   qty  \\\n",
       "29     2022-06-26                     SIMPLE FAZ A4 1        Fotocopia  14.0   \n",
       "30     2022-06-26  Baggio Fresh Manzana Liviano 200ml  Agua Saborizada   1.0   \n",
       "31     2022-06-26                Tostex Barbacoa 125g            Snack   1.0   \n",
       "32     2022-06-26                  Marlboro  Común 12       Cigarrillo   1.0   \n",
       "33     2022-06-26            Cabalgata Guaraná 3000ml          Gaseosa   1.0   \n",
       "...           ...                                 ...              ...   ...   \n",
       "11009  2022-12-03                       Brahma  473ml          Cerveza   3.0   \n",
       "11010  2022-12-03         Coca Cola Retornable 1500ml          Gaseosa   1.0   \n",
       "11011  2022-12-03                       Miller  473ml          Cerveza   1.0   \n",
       "11012  2022-12-03                Encendedor Candela 1           Varios   1.0   \n",
       "11013  2022-12-03                Fanta Naranja 500 ml          Gaseosa   1.0   \n",
       "\n",
       "          cogs  total   profit  \n",
       "29       0.000  140.0  140.000  \n",
       "30      49.000   70.0   21.000  \n",
       "31     113.000  150.0   37.000  \n",
       "32     240.000  330.0   90.000  \n",
       "33     192.000  300.0  108.000  \n",
       "...        ...    ...      ...  \n",
       "11009  450.000  690.0  240.000  \n",
       "11010  250.000  320.0   70.000  \n",
       "11011  165.000  240.0   75.000  \n",
       "11012   62.000  100.0   38.000  \n",
       "11013  166.666  220.0   53.334  \n",
       "\n",
       "[10985 rows x 7 columns]"
      ]
     },
     "execution_count": 245,
     "metadata": {},
     "output_type": "execute_result"
    }
   ],
   "source": [
    "# Whole Table \n",
    "df = pre_df[~pre_df.index.isin(df_to_filter.index)]\n",
    "df"
   ]
  },
  {
   "cell_type": "markdown",
   "id": "7d590444",
   "metadata": {},
   "source": [
    "### 2- EDA"
   ]
  },
  {
   "cell_type": "code",
   "execution_count": 246,
   "id": "cdab8243",
   "metadata": {},
   "outputs": [
    {
     "data": {
      "text/html": [
       "<div>\n",
       "<style scoped>\n",
       "    .dataframe tbody tr th:only-of-type {\n",
       "        vertical-align: middle;\n",
       "    }\n",
       "\n",
       "    .dataframe tbody tr th {\n",
       "        vertical-align: top;\n",
       "    }\n",
       "\n",
       "    .dataframe thead th {\n",
       "        text-align: right;\n",
       "    }\n",
       "</style>\n",
       "<table border=\"1\" class=\"dataframe\">\n",
       "  <thead>\n",
       "    <tr style=\"text-align: right;\">\n",
       "      <th></th>\n",
       "      <th>dt</th>\n",
       "      <th>product</th>\n",
       "      <th>category</th>\n",
       "      <th>qty</th>\n",
       "      <th>cogs</th>\n",
       "      <th>total</th>\n",
       "      <th>profit</th>\n",
       "    </tr>\n",
       "  </thead>\n",
       "  <tbody>\n",
       "    <tr>\n",
       "      <th>29</th>\n",
       "      <td>2022-06-26</td>\n",
       "      <td>SIMPLE FAZ A4 1</td>\n",
       "      <td>Fotocopia</td>\n",
       "      <td>14.0</td>\n",
       "      <td>0.0</td>\n",
       "      <td>140.0</td>\n",
       "      <td>140.0</td>\n",
       "    </tr>\n",
       "    <tr>\n",
       "      <th>30</th>\n",
       "      <td>2022-06-26</td>\n",
       "      <td>Baggio Fresh Manzana Liviano 200ml</td>\n",
       "      <td>Agua Saborizada</td>\n",
       "      <td>1.0</td>\n",
       "      <td>49.0</td>\n",
       "      <td>70.0</td>\n",
       "      <td>21.0</td>\n",
       "    </tr>\n",
       "    <tr>\n",
       "      <th>31</th>\n",
       "      <td>2022-06-26</td>\n",
       "      <td>Tostex Barbacoa 125g</td>\n",
       "      <td>Snack</td>\n",
       "      <td>1.0</td>\n",
       "      <td>113.0</td>\n",
       "      <td>150.0</td>\n",
       "      <td>37.0</td>\n",
       "    </tr>\n",
       "    <tr>\n",
       "      <th>32</th>\n",
       "      <td>2022-06-26</td>\n",
       "      <td>Marlboro  Común 12</td>\n",
       "      <td>Cigarrillo</td>\n",
       "      <td>1.0</td>\n",
       "      <td>240.0</td>\n",
       "      <td>330.0</td>\n",
       "      <td>90.0</td>\n",
       "    </tr>\n",
       "    <tr>\n",
       "      <th>33</th>\n",
       "      <td>2022-06-26</td>\n",
       "      <td>Cabalgata Guaraná 3000ml</td>\n",
       "      <td>Gaseosa</td>\n",
       "      <td>1.0</td>\n",
       "      <td>192.0</td>\n",
       "      <td>300.0</td>\n",
       "      <td>108.0</td>\n",
       "    </tr>\n",
       "  </tbody>\n",
       "</table>\n",
       "</div>"
      ],
      "text/plain": [
       "            dt                             product         category   qty  \\\n",
       "29  2022-06-26                     SIMPLE FAZ A4 1        Fotocopia  14.0   \n",
       "30  2022-06-26  Baggio Fresh Manzana Liviano 200ml  Agua Saborizada   1.0   \n",
       "31  2022-06-26                Tostex Barbacoa 125g            Snack   1.0   \n",
       "32  2022-06-26                  Marlboro  Común 12       Cigarrillo   1.0   \n",
       "33  2022-06-26            Cabalgata Guaraná 3000ml          Gaseosa   1.0   \n",
       "\n",
       "     cogs  total  profit  \n",
       "29    0.0  140.0   140.0  \n",
       "30   49.0   70.0    21.0  \n",
       "31  113.0  150.0    37.0  \n",
       "32  240.0  330.0    90.0  \n",
       "33  192.0  300.0   108.0  "
      ]
     },
     "execution_count": 246,
     "metadata": {},
     "output_type": "execute_result"
    }
   ],
   "source": [
    "df.head()"
   ]
  },
  {
   "cell_type": "code",
   "execution_count": 247,
   "id": "6b3f6f67",
   "metadata": {
    "scrolled": true
   },
   "outputs": [
    {
     "data": {
      "text/html": [
       "<div>\n",
       "<style scoped>\n",
       "    .dataframe tbody tr th:only-of-type {\n",
       "        vertical-align: middle;\n",
       "    }\n",
       "\n",
       "    .dataframe tbody tr th {\n",
       "        vertical-align: top;\n",
       "    }\n",
       "\n",
       "    .dataframe thead th {\n",
       "        text-align: right;\n",
       "    }\n",
       "</style>\n",
       "<table border=\"1\" class=\"dataframe\">\n",
       "  <thead>\n",
       "    <tr style=\"text-align: right;\">\n",
       "      <th></th>\n",
       "      <th>dt</th>\n",
       "      <th>product</th>\n",
       "      <th>category</th>\n",
       "      <th>qty</th>\n",
       "      <th>cogs</th>\n",
       "      <th>total</th>\n",
       "      <th>profit</th>\n",
       "    </tr>\n",
       "  </thead>\n",
       "  <tbody>\n",
       "    <tr>\n",
       "      <th>11009</th>\n",
       "      <td>2022-12-03</td>\n",
       "      <td>Brahma  473ml</td>\n",
       "      <td>Cerveza</td>\n",
       "      <td>3.0</td>\n",
       "      <td>450.000</td>\n",
       "      <td>690.0</td>\n",
       "      <td>240.000</td>\n",
       "    </tr>\n",
       "    <tr>\n",
       "      <th>11010</th>\n",
       "      <td>2022-12-03</td>\n",
       "      <td>Coca Cola Retornable 1500ml</td>\n",
       "      <td>Gaseosa</td>\n",
       "      <td>1.0</td>\n",
       "      <td>250.000</td>\n",
       "      <td>320.0</td>\n",
       "      <td>70.000</td>\n",
       "    </tr>\n",
       "    <tr>\n",
       "      <th>11011</th>\n",
       "      <td>2022-12-03</td>\n",
       "      <td>Miller  473ml</td>\n",
       "      <td>Cerveza</td>\n",
       "      <td>1.0</td>\n",
       "      <td>165.000</td>\n",
       "      <td>240.0</td>\n",
       "      <td>75.000</td>\n",
       "    </tr>\n",
       "    <tr>\n",
       "      <th>11012</th>\n",
       "      <td>2022-12-03</td>\n",
       "      <td>Encendedor Candela 1</td>\n",
       "      <td>Varios</td>\n",
       "      <td>1.0</td>\n",
       "      <td>62.000</td>\n",
       "      <td>100.0</td>\n",
       "      <td>38.000</td>\n",
       "    </tr>\n",
       "    <tr>\n",
       "      <th>11013</th>\n",
       "      <td>2022-12-03</td>\n",
       "      <td>Fanta Naranja 500 ml</td>\n",
       "      <td>Gaseosa</td>\n",
       "      <td>1.0</td>\n",
       "      <td>166.666</td>\n",
       "      <td>220.0</td>\n",
       "      <td>53.334</td>\n",
       "    </tr>\n",
       "  </tbody>\n",
       "</table>\n",
       "</div>"
      ],
      "text/plain": [
       "               dt                      product category  qty     cogs  total  \\\n",
       "11009  2022-12-03                Brahma  473ml  Cerveza  3.0  450.000  690.0   \n",
       "11010  2022-12-03  Coca Cola Retornable 1500ml  Gaseosa  1.0  250.000  320.0   \n",
       "11011  2022-12-03                Miller  473ml  Cerveza  1.0  165.000  240.0   \n",
       "11012  2022-12-03         Encendedor Candela 1   Varios  1.0   62.000  100.0   \n",
       "11013  2022-12-03         Fanta Naranja 500 ml  Gaseosa  1.0  166.666  220.0   \n",
       "\n",
       "        profit  \n",
       "11009  240.000  \n",
       "11010   70.000  \n",
       "11011   75.000  \n",
       "11012   38.000  \n",
       "11013   53.334  "
      ]
     },
     "execution_count": 247,
     "metadata": {},
     "output_type": "execute_result"
    }
   ],
   "source": [
    "df.tail()"
   ]
  },
  {
   "cell_type": "code",
   "execution_count": 248,
   "id": "7d7e2ee0",
   "metadata": {},
   "outputs": [
    {
     "name": "stdout",
     "output_type": "stream",
     "text": [
      "<class 'pandas.core.frame.DataFrame'>\n",
      "Int64Index: 10985 entries, 29 to 11013\n",
      "Data columns (total 7 columns):\n",
      " #   Column    Non-Null Count  Dtype  \n",
      "---  ------    --------------  -----  \n",
      " 0   dt        10985 non-null  object \n",
      " 1   product   10985 non-null  object \n",
      " 2   category  10985 non-null  object \n",
      " 3   qty       10985 non-null  float64\n",
      " 4   cogs      10985 non-null  float64\n",
      " 5   total     10985 non-null  float64\n",
      " 6   profit    10985 non-null  float64\n",
      "dtypes: float64(4), object(3)\n",
      "memory usage: 686.6+ KB\n"
     ]
    }
   ],
   "source": [
    "df.info()"
   ]
  },
  {
   "cell_type": "code",
   "execution_count": 249,
   "id": "d8f70b8d",
   "metadata": {},
   "outputs": [
    {
     "data": {
      "text/html": [
       "<div>\n",
       "<style scoped>\n",
       "    .dataframe tbody tr th:only-of-type {\n",
       "        vertical-align: middle;\n",
       "    }\n",
       "\n",
       "    .dataframe tbody tr th {\n",
       "        vertical-align: top;\n",
       "    }\n",
       "\n",
       "    .dataframe thead th {\n",
       "        text-align: right;\n",
       "    }\n",
       "</style>\n",
       "<table border=\"1\" class=\"dataframe\">\n",
       "  <thead>\n",
       "    <tr style=\"text-align: right;\">\n",
       "      <th></th>\n",
       "      <th>qty</th>\n",
       "      <th>cogs</th>\n",
       "      <th>total</th>\n",
       "      <th>profit</th>\n",
       "    </tr>\n",
       "  </thead>\n",
       "  <tbody>\n",
       "    <tr>\n",
       "      <th>count</th>\n",
       "      <td>10985.000000</td>\n",
       "      <td>10985.000000</td>\n",
       "      <td>10985.000000</td>\n",
       "      <td>10985.000000</td>\n",
       "    </tr>\n",
       "    <tr>\n",
       "      <th>mean</th>\n",
       "      <td>31.235594</td>\n",
       "      <td>166.575903</td>\n",
       "      <td>238.798552</td>\n",
       "      <td>72.222649</td>\n",
       "    </tr>\n",
       "    <tr>\n",
       "      <th>std</th>\n",
       "      <td>119.731050</td>\n",
       "      <td>188.966861</td>\n",
       "      <td>249.027240</td>\n",
       "      <td>129.919955</td>\n",
       "    </tr>\n",
       "    <tr>\n",
       "      <th>min</th>\n",
       "      <td>0.000000</td>\n",
       "      <td>0.000000</td>\n",
       "      <td>0.000000</td>\n",
       "      <td>-1642.500000</td>\n",
       "    </tr>\n",
       "    <tr>\n",
       "      <th>25%</th>\n",
       "      <td>1.000000</td>\n",
       "      <td>41.000000</td>\n",
       "      <td>80.000000</td>\n",
       "      <td>25.000000</td>\n",
       "    </tr>\n",
       "    <tr>\n",
       "      <th>50%</th>\n",
       "      <td>1.000000</td>\n",
       "      <td>120.000000</td>\n",
       "      <td>180.000000</td>\n",
       "      <td>60.000000</td>\n",
       "    </tr>\n",
       "    <tr>\n",
       "      <th>75%</th>\n",
       "      <td>2.000000</td>\n",
       "      <td>240.000000</td>\n",
       "      <td>330.000000</td>\n",
       "      <td>100.000000</td>\n",
       "    </tr>\n",
       "    <tr>\n",
       "      <th>max</th>\n",
       "      <td>3000.000000</td>\n",
       "      <td>3273.910000</td>\n",
       "      <td>4250.000000</td>\n",
       "      <td>4200.000000</td>\n",
       "    </tr>\n",
       "  </tbody>\n",
       "</table>\n",
       "</div>"
      ],
      "text/plain": [
       "                qty          cogs         total        profit\n",
       "count  10985.000000  10985.000000  10985.000000  10985.000000\n",
       "mean      31.235594    166.575903    238.798552     72.222649\n",
       "std      119.731050    188.966861    249.027240    129.919955\n",
       "min        0.000000      0.000000      0.000000  -1642.500000\n",
       "25%        1.000000     41.000000     80.000000     25.000000\n",
       "50%        1.000000    120.000000    180.000000     60.000000\n",
       "75%        2.000000    240.000000    330.000000    100.000000\n",
       "max     3000.000000   3273.910000   4250.000000   4200.000000"
      ]
     },
     "execution_count": 249,
     "metadata": {},
     "output_type": "execute_result"
    }
   ],
   "source": [
    "df.describe()"
   ]
  },
  {
   "cell_type": "code",
   "execution_count": 250,
   "id": "2bc86992",
   "metadata": {},
   "outputs": [
    {
     "data": {
      "text/plain": [
       "dt          0.0\n",
       "product     0.0\n",
       "category    0.0\n",
       "qty         0.0\n",
       "cogs        0.0\n",
       "total       0.0\n",
       "profit      0.0\n",
       "dtype: float64"
      ]
     },
     "execution_count": 250,
     "metadata": {},
     "output_type": "execute_result"
    }
   ],
   "source": [
    "# % of Null/Na values\n",
    "\n",
    "df.isnull().mean()*100"
   ]
  },
  {
   "cell_type": "markdown",
   "id": "76d6c266",
   "metadata": {},
   "source": [
    "### 3) Data Pre-processing\n",
    "##### (Compiling the tables for later visualization)"
   ]
  },
  {
   "cell_type": "markdown",
   "id": "65f473f9",
   "metadata": {},
   "source": [
    "#### A) Average revenue over time"
   ]
  },
  {
   "cell_type": "code",
   "execution_count": 263,
   "id": "a04cf3a4",
   "metadata": {},
   "outputs": [
    {
     "data": {
      "text/html": [
       "<div>\n",
       "<style scoped>\n",
       "    .dataframe tbody tr th:only-of-type {\n",
       "        vertical-align: middle;\n",
       "    }\n",
       "\n",
       "    .dataframe tbody tr th {\n",
       "        vertical-align: top;\n",
       "    }\n",
       "\n",
       "    .dataframe thead th {\n",
       "        text-align: right;\n",
       "    }\n",
       "</style>\n",
       "<table border=\"1\" class=\"dataframe\">\n",
       "  <thead>\n",
       "    <tr style=\"text-align: right;\">\n",
       "      <th></th>\n",
       "      <th>month</th>\n",
       "      <th>average_rev</th>\n",
       "    </tr>\n",
       "  </thead>\n",
       "  <tbody>\n",
       "    <tr>\n",
       "      <th>0</th>\n",
       "      <td>July</td>\n",
       "      <td>4793.4</td>\n",
       "    </tr>\n",
       "    <tr>\n",
       "      <th>1</th>\n",
       "      <td>August</td>\n",
       "      <td>4303.2</td>\n",
       "    </tr>\n",
       "    <tr>\n",
       "      <th>2</th>\n",
       "      <td>September</td>\n",
       "      <td>4993.4</td>\n",
       "    </tr>\n",
       "    <tr>\n",
       "      <th>3</th>\n",
       "      <td>October</td>\n",
       "      <td>5239.4</td>\n",
       "    </tr>\n",
       "    <tr>\n",
       "      <th>4</th>\n",
       "      <td>November</td>\n",
       "      <td>5804.1</td>\n",
       "    </tr>\n",
       "  </tbody>\n",
       "</table>\n",
       "</div>"
      ],
      "text/plain": [
       "       month  average_rev\n",
       "0       July       4793.4\n",
       "1     August       4303.2\n",
       "2  September       4993.4\n",
       "3    October       5239.4\n",
       "4   November       5804.1"
      ]
     },
     "execution_count": 263,
     "metadata": {},
     "output_type": "execute_result"
    }
   ],
   "source": [
    "avg_rev_query = '''\n",
    "                select month, round(AVG(total_rev), 1) as average_rev\n",
    "                from (SELECT MONTH(dt) AS month, SUM(profit) as total_rev\n",
    "                      FROM sales\n",
    "                      WHERE month <> 6\n",
    "                      AND month <> 12\n",
    "                      GROUP BY dt) AS total_daily_rev\n",
    "                group by month\n",
    "                '''\n",
    "avg_rev_table = pd.read_sql_query(avg_rev_query, con=db_connection)\n",
    "months = {7:\"July\", 8:\"August\", 9:\"September\", 10:\"October\", 11:\"November\"}\n",
    "avg_rev_table = avg_rev_table.replace({\"month\":months})\n",
    "avg_rev_table"
   ]
  },
  {
   "cell_type": "code",
   "execution_count": 260,
   "id": "455e094e",
   "metadata": {},
   "outputs": [
    {
     "data": {
      "text/html": [
       "<div>\n",
       "<style scoped>\n",
       "    .dataframe tbody tr th:only-of-type {\n",
       "        vertical-align: middle;\n",
       "    }\n",
       "\n",
       "    .dataframe tbody tr th {\n",
       "        vertical-align: top;\n",
       "    }\n",
       "\n",
       "    .dataframe thead th {\n",
       "        text-align: right;\n",
       "    }\n",
       "</style>\n",
       "<table border=\"1\" class=\"dataframe\">\n",
       "  <thead>\n",
       "    <tr style=\"text-align: right;\">\n",
       "      <th></th>\n",
       "      <th>month</th>\n",
       "      <th>total_rev</th>\n",
       "    </tr>\n",
       "  </thead>\n",
       "  <tbody>\n",
       "    <tr>\n",
       "      <th>0</th>\n",
       "      <td>July</td>\n",
       "      <td>148594.36</td>\n",
       "    </tr>\n",
       "    <tr>\n",
       "      <th>1</th>\n",
       "      <td>August</td>\n",
       "      <td>133397.66</td>\n",
       "    </tr>\n",
       "    <tr>\n",
       "      <th>2</th>\n",
       "      <td>September</td>\n",
       "      <td>149802.44</td>\n",
       "    </tr>\n",
       "    <tr>\n",
       "      <th>3</th>\n",
       "      <td>October</td>\n",
       "      <td>162421.41</td>\n",
       "    </tr>\n",
       "    <tr>\n",
       "      <th>4</th>\n",
       "      <td>November</td>\n",
       "      <td>174123.39</td>\n",
       "    </tr>\n",
       "  </tbody>\n",
       "</table>\n",
       "</div>"
      ],
      "text/plain": [
       "       month  total_rev\n",
       "0       July  148594.36\n",
       "1     August  133397.66\n",
       "2  September  149802.44\n",
       "3    October  162421.41\n",
       "4   November  174123.39"
      ]
     },
     "execution_count": 260,
     "metadata": {},
     "output_type": "execute_result"
    }
   ],
   "source": [
    "total_rev_query = '''\n",
    "                SELECT MONTH(dt) AS month, ROUND(SUM(profit),2) as total_rev\n",
    "                      FROM sales\n",
    "                      WHERE month <> 6\n",
    "                      AND month <> 12\n",
    "                      GROUP BY MONTH(dt)\n",
    "                '''\n",
    "total_rev_table = pd.read_sql_query(total_rev_query, con=db_connection)\n",
    "months = {7:\"July\", 8:\"August\", 9:\"September\", 10:\"October\", 11:\"November\"}\n",
    "total_rev_table = total_rev_table.replace({\"month\":months})\n",
    "total_rev_table"
   ]
  },
  {
   "cell_type": "code",
   "execution_count": 278,
   "id": "3f999fc2",
   "metadata": {},
   "outputs": [],
   "source": [
    "pct_change_rev_table_query = '''\n",
    "                        SELECT a.month, a.total_rev, b.month AS next_month, b.total_rev as next_month_rev,\n",
    "                               ROUND((cast(b.total_rev-a.total_rev as float) / a.total_rev)*100,2) AS pct_change\n",
    "                        FROM monthly_rev a\n",
    "                        LEFT JOIN monthly_rev b\n",
    "                        ON ( a.month + 1 = b.month)\n",
    "                        ORDER BY a.month\n",
    "                         '''\n",
    "pct_change_rev_table = pd.read_sql_query(pct_change_rev_table_query, con=db_connection)\n",
    "pct_change_rev_table = pct_change_rev_table.fillna(0)\n",
    "pct_change_rev_table = pct_change_rev_table.replace({\"month\":months, \"next_month\":months})\n",
    "pct_change_rev_table = pct_change_rev_table[0:4]"
   ]
  },
  {
   "cell_type": "code",
   "execution_count": 279,
   "id": "a563a419",
   "metadata": {},
   "outputs": [
    {
     "data": {
      "text/html": [
       "<div>\n",
       "<style scoped>\n",
       "    .dataframe tbody tr th:only-of-type {\n",
       "        vertical-align: middle;\n",
       "    }\n",
       "\n",
       "    .dataframe tbody tr th {\n",
       "        vertical-align: top;\n",
       "    }\n",
       "\n",
       "    .dataframe thead th {\n",
       "        text-align: right;\n",
       "    }\n",
       "</style>\n",
       "<table border=\"1\" class=\"dataframe\">\n",
       "  <thead>\n",
       "    <tr style=\"text-align: right;\">\n",
       "      <th></th>\n",
       "      <th>month</th>\n",
       "      <th>total_rev</th>\n",
       "      <th>next_month</th>\n",
       "      <th>next_month_rev</th>\n",
       "      <th>pct_change</th>\n",
       "    </tr>\n",
       "  </thead>\n",
       "  <tbody>\n",
       "    <tr>\n",
       "      <th>0</th>\n",
       "      <td>July</td>\n",
       "      <td>148594.4</td>\n",
       "      <td>August</td>\n",
       "      <td>133397.7</td>\n",
       "      <td>-10.23</td>\n",
       "    </tr>\n",
       "    <tr>\n",
       "      <th>1</th>\n",
       "      <td>August</td>\n",
       "      <td>133397.7</td>\n",
       "      <td>September</td>\n",
       "      <td>149802.4</td>\n",
       "      <td>12.30</td>\n",
       "    </tr>\n",
       "    <tr>\n",
       "      <th>2</th>\n",
       "      <td>September</td>\n",
       "      <td>149802.4</td>\n",
       "      <td>October</td>\n",
       "      <td>162421.4</td>\n",
       "      <td>8.42</td>\n",
       "    </tr>\n",
       "    <tr>\n",
       "      <th>3</th>\n",
       "      <td>October</td>\n",
       "      <td>162421.4</td>\n",
       "      <td>November</td>\n",
       "      <td>174123.4</td>\n",
       "      <td>7.20</td>\n",
       "    </tr>\n",
       "  </tbody>\n",
       "</table>\n",
       "</div>"
      ],
      "text/plain": [
       "       month  total_rev next_month  next_month_rev  pct_change\n",
       "0       July   148594.4     August        133397.7      -10.23\n",
       "1     August   133397.7  September        149802.4       12.30\n",
       "2  September   149802.4    October        162421.4        8.42\n",
       "3    October   162421.4   November        174123.4        7.20"
      ]
     },
     "execution_count": 279,
     "metadata": {},
     "output_type": "execute_result"
    }
   ],
   "source": [
    "pct_change_rev_table"
   ]
  },
  {
   "cell_type": "markdown",
   "id": "24f4f4a3",
   "metadata": {},
   "source": [
    "#### B) Top 5 products & categories by revenue"
   ]
  },
  {
   "cell_type": "markdown",
   "id": "621d67bd",
   "metadata": {},
   "source": [
    "##### Products"
   ]
  },
  {
   "cell_type": "code",
   "execution_count": 234,
   "id": "f6a3871d",
   "metadata": {
    "scrolled": true
   },
   "outputs": [
    {
     "data": {
      "text/html": [
       "<div>\n",
       "<style scoped>\n",
       "    .dataframe tbody tr th:only-of-type {\n",
       "        vertical-align: middle;\n",
       "    }\n",
       "\n",
       "    .dataframe tbody tr th {\n",
       "        vertical-align: top;\n",
       "    }\n",
       "\n",
       "    .dataframe thead th {\n",
       "        text-align: right;\n",
       "    }\n",
       "</style>\n",
       "<table border=\"1\" class=\"dataframe\">\n",
       "  <thead>\n",
       "    <tr style=\"text-align: right;\">\n",
       "      <th></th>\n",
       "      <th>product</th>\n",
       "      <th>total_rev</th>\n",
       "    </tr>\n",
       "  </thead>\n",
       "  <tbody>\n",
       "    <tr>\n",
       "      <th>0</th>\n",
       "      <td>Trámites</td>\n",
       "      <td>112350.0</td>\n",
       "    </tr>\n",
       "    <tr>\n",
       "      <th>1</th>\n",
       "      <td>Carga Virtual</td>\n",
       "      <td>31469.0</td>\n",
       "    </tr>\n",
       "    <tr>\n",
       "      <th>2</th>\n",
       "      <td>IMPRESIÓN A4 1</td>\n",
       "      <td>22810.0</td>\n",
       "    </tr>\n",
       "    <tr>\n",
       "      <th>3</th>\n",
       "      <td>DNI 1</td>\n",
       "      <td>20260.0</td>\n",
       "    </tr>\n",
       "    <tr>\n",
       "      <th>4</th>\n",
       "      <td>Coca Cola 2250ml</td>\n",
       "      <td>19507.0</td>\n",
       "    </tr>\n",
       "  </tbody>\n",
       "</table>\n",
       "</div>"
      ],
      "text/plain": [
       "            product  total_rev\n",
       "0          Trámites   112350.0\n",
       "1     Carga Virtual    31469.0\n",
       "2    IMPRESIÓN A4 1    22810.0\n",
       "3             DNI 1    20260.0\n",
       "4  Coca Cola 2250ml    19507.0"
      ]
     },
     "execution_count": 234,
     "metadata": {},
     "output_type": "execute_result"
    }
   ],
   "source": [
    "top_products_query = '''\n",
    "                    SELECT product, SUM(profit) AS total_rev\n",
    "                    FROM sales\n",
    "                    GROUP BY product\n",
    "                    ORDER BY total_rev DESC\n",
    "                    LIMIT 5\n",
    "                    '''\n",
    "top5_products = pd.read_sql_query(top_products_query, con=db_connection)\n",
    "top5_products"
   ]
  },
  {
   "cell_type": "markdown",
   "id": "6ed07510",
   "metadata": {},
   "source": [
    "##### Categories"
   ]
  },
  {
   "cell_type": "code",
   "execution_count": 89,
   "id": "b08be1d3",
   "metadata": {
    "scrolled": true
   },
   "outputs": [
    {
     "data": {
      "text/html": [
       "<div>\n",
       "<style scoped>\n",
       "    .dataframe tbody tr th:only-of-type {\n",
       "        vertical-align: middle;\n",
       "    }\n",
       "\n",
       "    .dataframe tbody tr th {\n",
       "        vertical-align: top;\n",
       "    }\n",
       "\n",
       "    .dataframe thead th {\n",
       "        text-align: right;\n",
       "    }\n",
       "</style>\n",
       "<table border=\"1\" class=\"dataframe\">\n",
       "  <thead>\n",
       "    <tr style=\"text-align: right;\">\n",
       "      <th></th>\n",
       "      <th>category</th>\n",
       "      <th>total_rev</th>\n",
       "    </tr>\n",
       "  </thead>\n",
       "  <tbody>\n",
       "    <tr>\n",
       "      <th>0</th>\n",
       "      <td>Fotocopia</td>\n",
       "      <td>189290.0</td>\n",
       "    </tr>\n",
       "    <tr>\n",
       "      <th>1</th>\n",
       "      <td>Cigarrillo</td>\n",
       "      <td>128369.0</td>\n",
       "    </tr>\n",
       "    <tr>\n",
       "      <th>2</th>\n",
       "      <td>Cerveza</td>\n",
       "      <td>122001.0</td>\n",
       "    </tr>\n",
       "    <tr>\n",
       "      <th>3</th>\n",
       "      <td>Gaseosa</td>\n",
       "      <td>75357.0</td>\n",
       "    </tr>\n",
       "    <tr>\n",
       "      <th>4</th>\n",
       "      <td>Carga</td>\n",
       "      <td>31469.0</td>\n",
       "    </tr>\n",
       "  </tbody>\n",
       "</table>\n",
       "</div>"
      ],
      "text/plain": [
       "     category  total_rev\n",
       "0   Fotocopia   189290.0\n",
       "1  Cigarrillo   128369.0\n",
       "2     Cerveza   122001.0\n",
       "3     Gaseosa    75357.0\n",
       "4       Carga    31469.0"
      ]
     },
     "execution_count": 89,
     "metadata": {},
     "output_type": "execute_result"
    }
   ],
   "source": [
    "top_categories_query = '''\n",
    "                    SELECT category, ROUND(SUM(profit)) AS total_rev\n",
    "                    FROM sales\n",
    "                    GROUP BY category\n",
    "                    ORDER BY total_rev DESC\n",
    "                    LIMIT 5\n",
    "                    '''\n",
    "top5_categories = pd.read_sql_query(top_categories_query, con=db_connection)\n",
    "top5_categories"
   ]
  },
  {
   "cell_type": "markdown",
   "id": "7986d084",
   "metadata": {},
   "source": [
    "#### C) 5 least sold products of the most sold categories by revenue"
   ]
  },
  {
   "cell_type": "code",
   "execution_count": 91,
   "id": "caf994f7",
   "metadata": {},
   "outputs": [
    {
     "data": {
      "text/html": [
       "<div>\n",
       "<style scoped>\n",
       "    .dataframe tbody tr th:only-of-type {\n",
       "        vertical-align: middle;\n",
       "    }\n",
       "\n",
       "    .dataframe tbody tr th {\n",
       "        vertical-align: top;\n",
       "    }\n",
       "\n",
       "    .dataframe thead th {\n",
       "        text-align: right;\n",
       "    }\n",
       "</style>\n",
       "<table border=\"1\" class=\"dataframe\">\n",
       "  <thead>\n",
       "    <tr style=\"text-align: right;\">\n",
       "      <th></th>\n",
       "      <th>product</th>\n",
       "      <th>total_rev</th>\n",
       "    </tr>\n",
       "  </thead>\n",
       "  <tbody>\n",
       "    <tr>\n",
       "      <th>0</th>\n",
       "      <td>Secco Pomelo 500 cc</td>\n",
       "      <td>30.0</td>\n",
       "    </tr>\n",
       "    <tr>\n",
       "      <th>1</th>\n",
       "      <td>Cigarrillos CJ Rubios Convertible</td>\n",
       "      <td>50.0</td>\n",
       "    </tr>\n",
       "    <tr>\n",
       "      <th>2</th>\n",
       "      <td>Cabalgata Lima 500ml</td>\n",
       "      <td>80.0</td>\n",
       "    </tr>\n",
       "    <tr>\n",
       "      <th>3</th>\n",
       "      <td>Mirinda Naranja Lata 354ml</td>\n",
       "      <td>80.0</td>\n",
       "    </tr>\n",
       "    <tr>\n",
       "      <th>4</th>\n",
       "      <td>Imperial IPA 473 ml</td>\n",
       "      <td>90.0</td>\n",
       "    </tr>\n",
       "  </tbody>\n",
       "</table>\n",
       "</div>"
      ],
      "text/plain": [
       "                             product  total_rev\n",
       "0                Secco Pomelo 500 cc       30.0\n",
       "1  Cigarrillos CJ Rubios Convertible       50.0\n",
       "2               Cabalgata Lima 500ml       80.0\n",
       "3         Mirinda Naranja Lata 354ml       80.0\n",
       "4                Imperial IPA 473 ml       90.0"
      ]
     },
     "execution_count": 91,
     "metadata": {},
     "output_type": "execute_result"
    }
   ],
   "source": [
    "# Products\n",
    "\n",
    "bot_products_query = '''\n",
    "                    SELECT product, ROUND(SUM(profit)) AS total_rev\n",
    "                    FROM sales\n",
    "                    WHERE category IN (\"Fotocopia\", \"Cigarrillo\", \"Cerveza\", \"Gaseosa\", \"Carga\")\n",
    "                    AND profit > 0\n",
    "                    GROUP BY product\n",
    "                    ORDER BY total_rev ASC\n",
    "                    LIMIT 5\n",
    "                    '''\n",
    "bottom5_products = pd.read_sql_query(bot_products_query, con=db_connection)\n",
    "bottom5_products"
   ]
  },
  {
   "cell_type": "code",
   "execution_count": 93,
   "id": "a575a181",
   "metadata": {},
   "outputs": [
    {
     "data": {
      "text/html": [
       "<div>\n",
       "<style scoped>\n",
       "    .dataframe tbody tr th:only-of-type {\n",
       "        vertical-align: middle;\n",
       "    }\n",
       "\n",
       "    .dataframe tbody tr th {\n",
       "        vertical-align: top;\n",
       "    }\n",
       "\n",
       "    .dataframe thead th {\n",
       "        text-align: right;\n",
       "    }\n",
       "</style>\n",
       "<table border=\"1\" class=\"dataframe\">\n",
       "  <thead>\n",
       "    <tr style=\"text-align: right;\">\n",
       "      <th></th>\n",
       "      <th>category</th>\n",
       "      <th>total_rev</th>\n",
       "    </tr>\n",
       "  </thead>\n",
       "  <tbody>\n",
       "    <tr>\n",
       "      <th>0</th>\n",
       "      <td>Mercería</td>\n",
       "      <td>75.0</td>\n",
       "    </tr>\n",
       "    <tr>\n",
       "      <th>1</th>\n",
       "      <td>Pastas</td>\n",
       "      <td>224.0</td>\n",
       "    </tr>\n",
       "    <tr>\n",
       "      <th>2</th>\n",
       "      <td>Embutidos</td>\n",
       "      <td>657.0</td>\n",
       "    </tr>\n",
       "    <tr>\n",
       "      <th>3</th>\n",
       "      <td>Cotillón</td>\n",
       "      <td>1042.0</td>\n",
       "    </tr>\n",
       "    <tr>\n",
       "      <th>4</th>\n",
       "      <td>Espumante</td>\n",
       "      <td>1286.0</td>\n",
       "    </tr>\n",
       "  </tbody>\n",
       "</table>\n",
       "</div>"
      ],
      "text/plain": [
       "    category  total_rev\n",
       "0   Mercería       75.0\n",
       "1     Pastas      224.0\n",
       "2  Embutidos      657.0\n",
       "3   Cotillón     1042.0\n",
       "4  Espumante     1286.0"
      ]
     },
     "execution_count": 93,
     "metadata": {},
     "output_type": "execute_result"
    }
   ],
   "source": [
    "# Categories\n",
    "\n",
    "bottom_categories_query = '''\n",
    "                    SELECT category, ROUND(SUM(profit)) AS total_rev\n",
    "                    FROM sales\n",
    "                    WHERE profit > 0\n",
    "                    GROUP BY category\n",
    "                    ORDER BY total_rev ASC\n",
    "                    LIMIT 5\n",
    "                    '''\n",
    "bottom5_categories = pd.read_sql_query(bottom_categories_query, con=db_connection)\n",
    "bottom5_categories"
   ]
  },
  {
   "cell_type": "markdown",
   "id": "47c1bfbc",
   "metadata": {},
   "source": [
    "#### D) Top 5 products & categories during weekdays and weekends"
   ]
  },
  {
   "cell_type": "code",
   "execution_count": 94,
   "id": "f176a8bb",
   "metadata": {},
   "outputs": [
    {
     "data": {
      "text/html": [
       "<div>\n",
       "<style scoped>\n",
       "    .dataframe tbody tr th:only-of-type {\n",
       "        vertical-align: middle;\n",
       "    }\n",
       "\n",
       "    .dataframe tbody tr th {\n",
       "        vertical-align: top;\n",
       "    }\n",
       "\n",
       "    .dataframe thead th {\n",
       "        text-align: right;\n",
       "    }\n",
       "</style>\n",
       "<table border=\"1\" class=\"dataframe\">\n",
       "  <thead>\n",
       "    <tr style=\"text-align: right;\">\n",
       "      <th></th>\n",
       "      <th>product</th>\n",
       "      <th>total_profit</th>\n",
       "    </tr>\n",
       "  </thead>\n",
       "  <tbody>\n",
       "    <tr>\n",
       "      <th>0</th>\n",
       "      <td>Trámites</td>\n",
       "      <td>112350.0</td>\n",
       "    </tr>\n",
       "    <tr>\n",
       "      <th>1</th>\n",
       "      <td>Carga Virtual</td>\n",
       "      <td>31469.0</td>\n",
       "    </tr>\n",
       "    <tr>\n",
       "      <th>2</th>\n",
       "      <td>IMPRESIÓN A4 1</td>\n",
       "      <td>22810.0</td>\n",
       "    </tr>\n",
       "    <tr>\n",
       "      <th>3</th>\n",
       "      <td>DNI 1</td>\n",
       "      <td>20260.0</td>\n",
       "    </tr>\n",
       "    <tr>\n",
       "      <th>4</th>\n",
       "      <td>Coca Cola 2250ml</td>\n",
       "      <td>19507.0</td>\n",
       "    </tr>\n",
       "  </tbody>\n",
       "</table>\n",
       "</div>"
      ],
      "text/plain": [
       "            product  total_profit\n",
       "0          Trámites      112350.0\n",
       "1     Carga Virtual       31469.0\n",
       "2    IMPRESIÓN A4 1       22810.0\n",
       "3             DNI 1       20260.0\n",
       "4  Coca Cola 2250ml       19507.0"
      ]
     },
     "execution_count": 94,
     "metadata": {},
     "output_type": "execute_result"
    }
   ],
   "source": [
    "# Products on WEEKDAYS\n",
    "products_weekdays_query = '''\n",
    "                        SELECT product, sum(profit) as total_profit\n",
    "                        FROM sales\n",
    "                        WHERE DAYOFWEEK(dt) <> 1\n",
    "                        OR DAYOFWEEK(dt) <> 7\n",
    "                        GROUP BY product\n",
    "                        ORDER BY total_profit DESC\n",
    "                        LIMIT 5\n",
    "                           '''\n",
    "top5_products_weekdays = pd.read_sql_query(products_weekdays_query, con=db_connection)\n",
    "top5_products_weekdays"
   ]
  },
  {
   "cell_type": "code",
   "execution_count": 95,
   "id": "ec3714e8",
   "metadata": {},
   "outputs": [
    {
     "data": {
      "text/html": [
       "<div>\n",
       "<style scoped>\n",
       "    .dataframe tbody tr th:only-of-type {\n",
       "        vertical-align: middle;\n",
       "    }\n",
       "\n",
       "    .dataframe tbody tr th {\n",
       "        vertical-align: top;\n",
       "    }\n",
       "\n",
       "    .dataframe thead th {\n",
       "        text-align: right;\n",
       "    }\n",
       "</style>\n",
       "<table border=\"1\" class=\"dataframe\">\n",
       "  <thead>\n",
       "    <tr style=\"text-align: right;\">\n",
       "      <th></th>\n",
       "      <th>product</th>\n",
       "      <th>total_profit</th>\n",
       "    </tr>\n",
       "  </thead>\n",
       "  <tbody>\n",
       "    <tr>\n",
       "      <th>0</th>\n",
       "      <td>Carga Virtual</td>\n",
       "      <td>12319.0</td>\n",
       "    </tr>\n",
       "    <tr>\n",
       "      <th>1</th>\n",
       "      <td>Coca Cola 2250ml</td>\n",
       "      <td>9969.0</td>\n",
       "    </tr>\n",
       "    <tr>\n",
       "      <th>2</th>\n",
       "      <td>Viñas de Balbo 1125ml</td>\n",
       "      <td>8314.0</td>\n",
       "    </tr>\n",
       "    <tr>\n",
       "      <th>3</th>\n",
       "      <td>Quilmes Bajo Cero Retornable 1000ml</td>\n",
       "      <td>7500.0</td>\n",
       "    </tr>\n",
       "    <tr>\n",
       "      <th>4</th>\n",
       "      <td>Imperial Golden  473ml</td>\n",
       "      <td>7020.0</td>\n",
       "    </tr>\n",
       "  </tbody>\n",
       "</table>\n",
       "</div>"
      ],
      "text/plain": [
       "                               product  total_profit\n",
       "0                        Carga Virtual       12319.0\n",
       "1                     Coca Cola 2250ml        9969.0\n",
       "2                Viñas de Balbo 1125ml        8314.0\n",
       "3  Quilmes Bajo Cero Retornable 1000ml        7500.0\n",
       "4               Imperial Golden  473ml        7020.0"
      ]
     },
     "execution_count": 95,
     "metadata": {},
     "output_type": "execute_result"
    }
   ],
   "source": [
    "# Products on WEEKENDS\n",
    "products_weekends_query = '''\n",
    "                        SELECT product, ROUND(SUM(profit)) as total_profit\n",
    "                        FROM sales\n",
    "                        WHERE DAYOFWEEK(dt) LIKE 1\n",
    "                        OR DAYOFWEEK(dt) LIKE 7\n",
    "                        GROUP BY product\n",
    "                        ORDER BY total_profit DESC\n",
    "                        LIMIT 5\n",
    "                '''\n",
    "top5_products_weekends = pd.read_sql_query(products_weekends_query, con=db_connection)\n",
    "top5_products_weekends"
   ]
  },
  {
   "cell_type": "code",
   "execution_count": 96,
   "id": "99eb4ab6",
   "metadata": {},
   "outputs": [
    {
     "data": {
      "text/html": [
       "<div>\n",
       "<style scoped>\n",
       "    .dataframe tbody tr th:only-of-type {\n",
       "        vertical-align: middle;\n",
       "    }\n",
       "\n",
       "    .dataframe tbody tr th {\n",
       "        vertical-align: top;\n",
       "    }\n",
       "\n",
       "    .dataframe thead th {\n",
       "        text-align: right;\n",
       "    }\n",
       "</style>\n",
       "<table border=\"1\" class=\"dataframe\">\n",
       "  <thead>\n",
       "    <tr style=\"text-align: right;\">\n",
       "      <th></th>\n",
       "      <th>category</th>\n",
       "      <th>total_profit</th>\n",
       "    </tr>\n",
       "  </thead>\n",
       "  <tbody>\n",
       "    <tr>\n",
       "      <th>0</th>\n",
       "      <td>Fotocopia</td>\n",
       "      <td>189290.0</td>\n",
       "    </tr>\n",
       "    <tr>\n",
       "      <th>1</th>\n",
       "      <td>Cigarrillo</td>\n",
       "      <td>128369.0</td>\n",
       "    </tr>\n",
       "    <tr>\n",
       "      <th>2</th>\n",
       "      <td>Cerveza</td>\n",
       "      <td>122001.0</td>\n",
       "    </tr>\n",
       "    <tr>\n",
       "      <th>3</th>\n",
       "      <td>Gaseosa</td>\n",
       "      <td>75357.0</td>\n",
       "    </tr>\n",
       "    <tr>\n",
       "      <th>4</th>\n",
       "      <td>Carga</td>\n",
       "      <td>31469.0</td>\n",
       "    </tr>\n",
       "  </tbody>\n",
       "</table>\n",
       "</div>"
      ],
      "text/plain": [
       "     category  total_profit\n",
       "0   Fotocopia      189290.0\n",
       "1  Cigarrillo      128369.0\n",
       "2     Cerveza      122001.0\n",
       "3     Gaseosa       75357.0\n",
       "4       Carga       31469.0"
      ]
     },
     "execution_count": 96,
     "metadata": {},
     "output_type": "execute_result"
    }
   ],
   "source": [
    "# Categories on WEEKDAYS\n",
    "categories_weekdays_query = '''\n",
    "                        SELECT category, ROUND(SUM(profit)) as total_profit\n",
    "                        FROM sales\n",
    "                        WHERE DAYOFWEEK(dt) <> 1\n",
    "                        OR DAYOFWEEK(dt) <> 7\n",
    "                        GROUP BY category\n",
    "                        ORDER BY total_profit DESC\n",
    "                        LIMIT 5\n",
    "                           '''\n",
    "top5_categories_weekdays = pd.read_sql_query(categories_weekdays_query, con=db_connection)\n",
    "top5_categories_weekdays"
   ]
  },
  {
   "cell_type": "code",
   "execution_count": 97,
   "id": "91e5e0e1",
   "metadata": {},
   "outputs": [
    {
     "data": {
      "text/html": [
       "<div>\n",
       "<style scoped>\n",
       "    .dataframe tbody tr th:only-of-type {\n",
       "        vertical-align: middle;\n",
       "    }\n",
       "\n",
       "    .dataframe tbody tr th {\n",
       "        vertical-align: top;\n",
       "    }\n",
       "\n",
       "    .dataframe thead th {\n",
       "        text-align: right;\n",
       "    }\n",
       "</style>\n",
       "<table border=\"1\" class=\"dataframe\">\n",
       "  <thead>\n",
       "    <tr style=\"text-align: right;\">\n",
       "      <th></th>\n",
       "      <th>category</th>\n",
       "      <th>total_profit</th>\n",
       "    </tr>\n",
       "  </thead>\n",
       "  <tbody>\n",
       "    <tr>\n",
       "      <th>0</th>\n",
       "      <td>Cerveza</td>\n",
       "      <td>56894.0</td>\n",
       "    </tr>\n",
       "    <tr>\n",
       "      <th>1</th>\n",
       "      <td>Cigarrillo</td>\n",
       "      <td>40652.0</td>\n",
       "    </tr>\n",
       "    <tr>\n",
       "      <th>2</th>\n",
       "      <td>Gaseosa</td>\n",
       "      <td>33079.0</td>\n",
       "    </tr>\n",
       "    <tr>\n",
       "      <th>3</th>\n",
       "      <td>Fotocopia</td>\n",
       "      <td>14880.0</td>\n",
       "    </tr>\n",
       "    <tr>\n",
       "      <th>4</th>\n",
       "      <td>Carga</td>\n",
       "      <td>12319.0</td>\n",
       "    </tr>\n",
       "  </tbody>\n",
       "</table>\n",
       "</div>"
      ],
      "text/plain": [
       "     category  total_profit\n",
       "0     Cerveza       56894.0\n",
       "1  Cigarrillo       40652.0\n",
       "2     Gaseosa       33079.0\n",
       "3   Fotocopia       14880.0\n",
       "4       Carga       12319.0"
      ]
     },
     "execution_count": 97,
     "metadata": {},
     "output_type": "execute_result"
    }
   ],
   "source": [
    "# Categories on WEEKENDS\n",
    "categories_weekends_query = '''\n",
    "                        SELECT category, ROUND(SUM(profit)) as total_profit\n",
    "                        FROM sales\n",
    "                        WHERE DAYOFWEEK(dt) LIKE 1\n",
    "                        OR DAYOFWEEK(dt) LIKE 7\n",
    "                        GROUP BY category\n",
    "                        ORDER BY total_profit DESC\n",
    "                        LIMIT 5\n",
    "                        '''\n",
    "top5_categories_weekends = pd.read_sql_query(categories_weekends_query, con=db_connection)\n",
    "top5_categories_weekends"
   ]
  },
  {
   "cell_type": "markdown",
   "id": "faf5e024",
   "metadata": {},
   "source": [
    "### 4) Graphs & Visualizations with Seaborn and Matplotlib"
   ]
  },
  {
   "cell_type": "markdown",
   "id": "3b105aa5",
   "metadata": {},
   "source": [
    "#### A) Average monthly revenue over time"
   ]
  },
  {
   "cell_type": "code",
   "execution_count": 280,
   "id": "742745f1",
   "metadata": {
    "scrolled": true
   },
   "outputs": [
    {
     "data": {
      "text/html": [
       "<div>\n",
       "<style scoped>\n",
       "    .dataframe tbody tr th:only-of-type {\n",
       "        vertical-align: middle;\n",
       "    }\n",
       "\n",
       "    .dataframe tbody tr th {\n",
       "        vertical-align: top;\n",
       "    }\n",
       "\n",
       "    .dataframe thead th {\n",
       "        text-align: right;\n",
       "    }\n",
       "</style>\n",
       "<table border=\"1\" class=\"dataframe\">\n",
       "  <thead>\n",
       "    <tr style=\"text-align: right;\">\n",
       "      <th></th>\n",
       "      <th>month</th>\n",
       "      <th>total_rev</th>\n",
       "      <th>next_month</th>\n",
       "      <th>next_month_rev</th>\n",
       "      <th>pct_change</th>\n",
       "    </tr>\n",
       "  </thead>\n",
       "  <tbody>\n",
       "    <tr>\n",
       "      <th>0</th>\n",
       "      <td>July</td>\n",
       "      <td>148594.4</td>\n",
       "      <td>August</td>\n",
       "      <td>133397.7</td>\n",
       "      <td>-10.23</td>\n",
       "    </tr>\n",
       "    <tr>\n",
       "      <th>1</th>\n",
       "      <td>August</td>\n",
       "      <td>133397.7</td>\n",
       "      <td>September</td>\n",
       "      <td>149802.4</td>\n",
       "      <td>12.30</td>\n",
       "    </tr>\n",
       "    <tr>\n",
       "      <th>2</th>\n",
       "      <td>September</td>\n",
       "      <td>149802.4</td>\n",
       "      <td>October</td>\n",
       "      <td>162421.4</td>\n",
       "      <td>8.42</td>\n",
       "    </tr>\n",
       "    <tr>\n",
       "      <th>3</th>\n",
       "      <td>October</td>\n",
       "      <td>162421.4</td>\n",
       "      <td>November</td>\n",
       "      <td>174123.4</td>\n",
       "      <td>7.20</td>\n",
       "    </tr>\n",
       "  </tbody>\n",
       "</table>\n",
       "</div>"
      ],
      "text/plain": [
       "       month  total_rev next_month  next_month_rev  pct_change\n",
       "0       July   148594.4     August        133397.7      -10.23\n",
       "1     August   133397.7  September        149802.4       12.30\n",
       "2  September   149802.4    October        162421.4        8.42\n",
       "3    October   162421.4   November        174123.4        7.20"
      ]
     },
     "execution_count": 280,
     "metadata": {},
     "output_type": "execute_result"
    }
   ],
   "source": [
    "pct_change_rev_table"
   ]
  },
  {
   "cell_type": "code",
   "execution_count": 277,
   "id": "39144093",
   "metadata": {},
   "outputs": [
    {
     "data": {
      "image/png": "[encoded data removed]",
      "text/plain": [
       "<Figure size 1008x432 with 2 Axes>"
      ]
     },
     "metadata": {},
     "output_type": "display_data"
    }
   ],
   "source": [
    "sns.set(rc={'figure.figsize':(14,6)})\n",
    "fig, axes = plt.subplots(1, 2,facecolor=('w'))\n",
    "fig.tight_layout(pad=8)\n",
    "\n",
    "#sns.set(rc={'figure.figsize':(6,4)})\n",
    "ax1 = sns.lineplot(data=avg_rev_table, y='average_rev', x='month', ax=axes[1], palette='#E3F4FF')\n",
    "ax1.set_facecolor('white')\n",
    "ax1.set(title='Average Daily Revenue in Argentine Pesos $')\n",
    "ax1.set(ylabel=None)\n",
    "ax1.set(xlabel=None)\n",
    "ax1.grid(None)\n",
    "\n",
    "ax3 = sns.barplot(data=total_rev_table, y='total_rev', x='month', ax=axes[0], palette='Purples')\n",
    "ax3.title.set_text('Total Revenue in Argentine Pesos $')\n",
    "ax3.set(xlabel=None)\n",
    "ax3.set(ylabel=None)\n",
    "ax3.grid(False)\n",
    "ax3.set_facecolor('white')\n",
    "for i in ax3.containers:\n",
    "    ax3.bar_label(i,)"
   ]
  },
  {
   "cell_type": "markdown",
   "id": "36848f57",
   "metadata": {},
   "source": [
    "#### B) Top 5 products & categories by revenue"
   ]
  },
  {
   "cell_type": "code",
   "execution_count": 224,
   "id": "d5074732",
   "metadata": {},
   "outputs": [
    {
     "data": {
      "image/png": "[encoded data removed]",
      "text/plain": [
       "<Figure size 576x360 with 1 Axes>"
      ]
     },
     "metadata": {},
     "output_type": "display_data"
    }
   ],
   "source": [
    "# Products\n",
    "sns.set(rc={'figure.figsize':(8,5)})\n",
    "ax = sns.barplot(data=top5_products, y='product', x='total_rev', palette=\"Blues_r\")\n",
    "ax.set_facecolor('white')\n",
    "ax.set(xlabel=\"In Argentinian Pesos $\")\n",
    "ax.set(ylabel=None)\n",
    "ax.set(title='Top 5 Products by Revenue')\n",
    "for i in ax.containers:\n",
    "    ax.bar_label(i,)"
   ]
  },
  {
   "cell_type": "code",
   "execution_count": 289,
   "id": "f3baaf21",
   "metadata": {},
   "outputs": [
    {
     "data": {
      "image/png": "[encoded data removed]",
      "text/plain": [
       "<Figure size 576x396 with 1 Axes>"
      ]
     },
     "metadata": {},
     "output_type": "display_data"
    }
   ],
   "source": [
    "# Category \n",
    "sns.set(rc={'figure.figsize':(8,5.5)})\n",
    "ax = sns.barplot(data=top5_categories, y='category', x='total_rev', palette=\"Oranges_r\")\n",
    "ax.set_facecolor('white')\n",
    "ax.set(xlabel=\"In Argentinian Pesos $\")\n",
    "ax.set(ylabel=None)\n",
    "ax.set(title='Top 5 Category by Revenue')\n",
    "for i in ax.containers:\n",
    "    ax.bar_label(i,)"
   ]
  },
  {
   "cell_type": "markdown",
   "id": "63d2949d",
   "metadata": {},
   "source": [
    "#### C) 5 least sold products of top categories by revenue"
   ]
  },
  {
   "cell_type": "code",
   "execution_count": 223,
   "id": "04e59d37",
   "metadata": {
    "scrolled": true
   },
   "outputs": [
    {
     "data": {
      "image/png": "[encoded data removed]",
      "text/plain": [
       "<Figure size 576x360 with 1 Axes>"
      ]
     },
     "metadata": {},
     "output_type": "display_data"
    }
   ],
   "source": [
    "# Products\n",
    "sns.set(rc={'figure.figsize':(8,5)})\n",
    "ax = sns.barplot(data=bottom5_products, y='product', x='total_rev', palette=\"Blues_r\")\n",
    "ax.set_facecolor('white')\n",
    "ax.set(xlabel=\"In Argentinian Pesos $\")\n",
    "ax.set(ylabel=None)\n",
    "ax.set(title='Least Sold 5 Products by Revenue')\n",
    "for i in ax.containers:\n",
    "    ax.bar_label(i,)"
   ]
  },
  {
   "cell_type": "markdown",
   "id": "3facbc7f",
   "metadata": {},
   "source": [
    "##### D) 5 least sold categories by revenue."
   ]
  },
  {
   "cell_type": "code",
   "execution_count": 290,
   "id": "ff146bc9",
   "metadata": {},
   "outputs": [
    {
     "data": {
      "image/png": "[encoded data removed]",
      "text/plain": [
       "<Figure size 576x360 with 1 Axes>"
      ]
     },
     "metadata": {},
     "output_type": "display_data"
    }
   ],
   "source": [
    "# Categories\n",
    "sns.set(rc={'figure.figsize':(8,5)})\n",
    "ax = sns.barplot(data=bottom5_categories, y='category', x='total_rev', palette=\"Oranges_r\")\n",
    "ax.set_facecolor('white')\n",
    "ax.set(xlabel=\"In Argentinian Pesos $\")\n",
    "ax.set(ylabel=None)\n",
    "ax.set(title='Least sold 5 Categories by Revenue')\n",
    "for i in ax.containers:\n",
    "    ax.bar_label(i,)"
   ]
  },
  {
   "cell_type": "markdown",
   "id": "925adb0c",
   "metadata": {},
   "source": [
    "#### E) Top 5 products & categories during weekdays and weekends"
   ]
  },
  {
   "cell_type": "code",
   "execution_count": 132,
   "id": "3788fb4e",
   "metadata": {},
   "outputs": [
    {
     "data": {
      "image/png": "[encoded data removed]",
      "text/plain": [
       "<Figure size 1152x576 with 2 Axes>"
      ]
     },
     "metadata": {},
     "output_type": "display_data"
    }
   ],
   "source": [
    "# Products\n",
    "\n",
    "sns.set(rc={'figure.figsize':(16,8)})\n",
    "fig.suptitle('asdf', fontsize=12)\n",
    "fig, axes = plt.subplots(1, 2,facecolor=('w'))\n",
    "fig.tight_layout(pad=12)\n",
    "\n",
    "ax1 = sns.barplot(data=top5_products_weekdays, y='product', x='total_profit', ax=axes[0], palette='Blues_r')\n",
    "ax1.title.set_text('Top 5 Products on Weekdays')\n",
    "ax1.set(xlabel=\"In Argentinian Pesos $\")\n",
    "ax1.set(ylabel=None)\n",
    "ax1.grid(False)\n",
    "ax1.set_facecolor('white')\n",
    "for i in ax1.containers:\n",
    "    ax1.bar_label(i,)\n",
    "\n",
    "ax2 = sns.barplot(data=top5_products_weekends, y='product', x='total_profit', ax=axes[1], palette='Blues_r')\n",
    "ax2.title.set_text('Top 5 Products on Weekends')\n",
    "ax2.set(xlabel=\"In Argentinian Pesos $\")\n",
    "ax2.set(ylabel=None)\n",
    "ax2.grid(False)\n",
    "ax2.set_facecolor('white')\n",
    "for i in ax2.containers:\n",
    "    ax2.bar_label(i,)"
   ]
  },
  {
   "cell_type": "code",
   "execution_count": 291,
   "id": "14e9650d",
   "metadata": {},
   "outputs": [
    {
     "data": {
      "image/png": "[encoded data removed]",
      "text/plain": [
       "<Figure size 1152x576 with 2 Axes>"
      ]
     },
     "metadata": {},
     "output_type": "display_data"
    }
   ],
   "source": [
    "# Categories\n",
    "\n",
    "sns.set(rc={'figure.figsize':(16,8)})\n",
    "fig.suptitle('asdf', fontsize=12)\n",
    "fig, axes = plt.subplots(1, 2,facecolor=('w'))\n",
    "fig.tight_layout(pad=12)\n",
    "\n",
    "ax1 = sns.barplot(data=top5_categories_weekdays, y='category', x='total_profit', ax=axes[0], palette='Oranges_r')\n",
    "ax1.title.set_text('Top 5 Categories on Weekdays')\n",
    "ax1.set(xlabel=\"In Argentinian Pesos $\")\n",
    "ax1.set(ylabel=None)\n",
    "ax1.grid(False)\n",
    "ax1.set_facecolor('white')\n",
    "for i in ax1.containers:\n",
    "    ax1.bar_label(i,)\n",
    "\n",
    "ax2 = sns.barplot(data=top5_categories_weekends, y='category', x='total_profit', ax=axes[1], palette='Oranges_r')\n",
    "ax2.title.set_text('Top 5 Categories on Weekends')\n",
    "ax2.set(xlabel=\"In Argentinian Pesos $\")\n",
    "ax2.set(ylabel=None)\n",
    "ax2.grid(False)\n",
    "ax2.set_facecolor('white')\n",
    "for i in ax2.containers:\n",
    "    ax2.bar_label(i,)"
   ]
  },
  {
   "cell_type": "code",
   "execution_count": null,
   "id": "82c4d0e8",
   "metadata": {},
   "outputs": [],
   "source": []
  }
 ],
 "metadata": {
  "kernelspec": {
   "display_name": "Python 3 (ipykernel)",
   "language": "python",
   "name": "python3"
  },
  "language_info": {
   "codemirror_mode": {
    "name": "ipython",
    "version": 3
   },
   "file_extension": ".py",
   "mimetype": "text/x-python",
   "name": "python",
   "nbconvert_exporter": "python",
   "pygments_lexer": "ipython3",
   "version": "3.9.12"
  }
 },
 "nbformat": 4,
 "nbformat_minor": 5
}
